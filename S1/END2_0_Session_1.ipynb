{
  "nbformat": 4,
  "nbformat_minor": 0,
  "metadata": {
    "colab": {
      "name": "Copy of END2.0 Session 1.ipynb",
      "provenance": []
    },
    "kernelspec": {
      "name": "python3",
      "display_name": "Python 3"
    },
    "language_info": {
      "name": "python"
    }
  },
  "cells": [
    {
      "cell_type": "code",
      "metadata": {
        "colab": {
          "base_uri": "https://localhost:8080/"
        },
        "id": "GC_6PeobwwkH",
        "outputId": "e6087a8b-1549-4bb1-bf83-d5225d9c7844"
      },
      "source": [
        "import torch\n",
        "from torch.autograd import Variable\n",
        "import torch.nn as nn\n",
        "import torch.nn.functional as F\n",
        "import torch.optim as optim\n",
        "import numpy as np\n",
        "import matplotlib.pyplot as plt\n",
        "%matplotlib inline\n",
        "torch.manual_seed(2)"
      ],
      "execution_count": null,
      "outputs": [
        {
          "output_type": "execute_result",
          "data": {
            "text/plain": [
              "<torch._C.Generator at 0x7f7e206258d0>"
            ]
          },
          "metadata": {
            "tags": []
          },
          "execution_count": 1
        }
      ]
    },
    {
      "cell_type": "code",
      "metadata": {
        "id": "bL64bMTkw2GP"
      },
      "source": [
        "X = torch.Tensor([[0,0], [0,1], [1,0], [1,1]])\n",
        "Y = torch.Tensor([0, 1, 1, 0]).view(-1,1)"
      ],
      "execution_count": null,
      "outputs": []
    },
    {
      "cell_type": "code",
      "metadata": {
        "id": "aC82kEAIw3Wf"
      },
      "source": [
        "class XOR(nn.Module):\n",
        "    def __init__(self, input_dim = 2, output_dim=1):\n",
        "        super(XOR, self).__init__()\n",
        "        self.lin1 = nn.Linear(input_dim, 11,bias = True)\n",
        "        self.lin2 = nn.Linear(11, output_dim, bias = False)\n",
        "    \n",
        "    def forward(self, x):\n",
        "        x = self.lin1(x)\n",
        "        x = F.tanh(x)\n",
        "        x = self.lin2(x)\n",
        "        return x"
      ],
      "execution_count": null,
      "outputs": []
    },
    {
      "cell_type": "code",
      "metadata": {
        "colab": {
          "base_uri": "https://localhost:8080/"
        },
        "id": "8gQIQExYw65K",
        "outputId": "1fabea4a-9a4a-4685-af3c-4051f6578722"
      },
      "source": [
        "model = XOR()\n",
        "print(model)\n",
        "from torchsummary import summary\n",
        "summary(model, (2,2))"
      ],
      "execution_count": null,
      "outputs": [
        {
          "output_type": "stream",
          "text": [
            "XOR(\n",
            "  (lin1): Linear(in_features=2, out_features=11, bias=True)\n",
            "  (lin2): Linear(in_features=11, out_features=1, bias=False)\n",
            ")\n",
            "----------------------------------------------------------------\n",
            "        Layer (type)               Output Shape         Param #\n",
            "================================================================\n",
            "            Linear-1                [-1, 2, 11]              33\n",
            "            Linear-2                 [-1, 2, 1]              11\n",
            "================================================================\n",
            "Total params: 44\n",
            "Trainable params: 44\n",
            "Non-trainable params: 0\n",
            "----------------------------------------------------------------\n",
            "Input size (MB): 0.00\n",
            "Forward/backward pass size (MB): 0.00\n",
            "Params size (MB): 0.00\n",
            "Estimated Total Size (MB): 0.00\n",
            "----------------------------------------------------------------\n"
          ],
          "name": "stdout"
        },
        {
          "output_type": "stream",
          "text": [
            "/usr/local/lib/python3.7/dist-packages/torch/nn/functional.py:1698: UserWarning: nn.functional.tanh is deprecated. Use torch.tanh instead.\n",
            "  warnings.warn(\"nn.functional.tanh is deprecated. Use torch.tanh instead.\")\n"
          ],
          "name": "stderr"
        }
      ]
    },
    {
      "cell_type": "code",
      "metadata": {
        "id": "yeotEq19x6XF"
      },
      "source": [
        "def weights_init(model):\n",
        "    for m in model.modules():\n",
        "        if isinstance(m, nn.Linear):\n",
        "            # initialize the weight tensor, here we use a normal distribution\n",
        "            m.weight.data.normal_(0, 1)\n",
        "\n",
        "weights_init(model)"
      ],
      "execution_count": null,
      "outputs": []
    },
    {
      "cell_type": "code",
      "metadata": {
        "id": "WrD_sNzLx78e"
      },
      "source": [
        "loss_func = nn.L1Loss()"
      ],
      "execution_count": null,
      "outputs": []
    },
    {
      "cell_type": "code",
      "metadata": {
        "id": "-zvbrMd2x_lA"
      },
      "source": [
        "optimizer = optim.SGD(model.parameters(), lr=0.02, momentum=0.9)\n"
      ],
      "execution_count": null,
      "outputs": []
    },
    {
      "cell_type": "code",
      "metadata": {
        "colab": {
          "base_uri": "https://localhost:8080/"
        },
        "id": "q7tWa3D7yA5X",
        "outputId": "96c6470a-4d86-4923-96bf-8f77909c6fae"
      },
      "source": [
        "epochs = 2001\n",
        "steps = X.size(0)\n",
        "for i in range(epochs):\n",
        "    for j in range(steps):\n",
        "        data_point = np.random.randint(X.size(0))\n",
        "        x_var = Variable(X[data_point], requires_grad=False)\n",
        "        y_var = Variable(Y[data_point], requires_grad=False)\n",
        "        \n",
        "        optimizer.zero_grad()\n",
        "        y_hat = model(x_var)\n",
        "        loss = loss_func.forward(y_hat, y_var)\n",
        "        loss.backward()\n",
        "        optimizer.step()\n",
        "        \n",
        "    if i % 50 == 0:\n",
        "        print( \"Epoch: {0}, Loss: {1}, \".format(i, loss.data.numpy()))"
      ],
      "execution_count": null,
      "outputs": [
        {
          "output_type": "stream",
          "text": [
            "/usr/local/lib/python3.7/dist-packages/torch/nn/functional.py:1698: UserWarning: nn.functional.tanh is deprecated. Use torch.tanh instead.\n",
            "  warnings.warn(\"nn.functional.tanh is deprecated. Use torch.tanh instead.\")\n"
          ],
          "name": "stderr"
        },
        {
          "output_type": "stream",
          "text": [
            "Epoch: 0, Loss: 2.1623177528381348, \n",
            "Epoch: 50, Loss: 0.04745027422904968, \n",
            "Epoch: 100, Loss: 0.10445201396942139, \n",
            "Epoch: 150, Loss: 0.7468260526657104, \n",
            "Epoch: 200, Loss: 0.11901974678039551, \n",
            "Epoch: 250, Loss: 0.09284389019012451, \n",
            "Epoch: 300, Loss: 0.13909804821014404, \n",
            "Epoch: 350, Loss: 0.056157588958740234, \n",
            "Epoch: 400, Loss: 0.9751710295677185, \n",
            "Epoch: 450, Loss: 0.16077017784118652, \n",
            "Epoch: 500, Loss: 0.02316337823867798, \n",
            "Epoch: 550, Loss: 0.0497509241104126, \n",
            "Epoch: 600, Loss: 0.34373176097869873, \n",
            "Epoch: 650, Loss: 0.04921764135360718, \n",
            "Epoch: 700, Loss: 0.19202333688735962, \n",
            "Epoch: 750, Loss: 0.13955062627792358, \n",
            "Epoch: 800, Loss: 0.014546751976013184, \n",
            "Epoch: 850, Loss: 0.12821030616760254, \n",
            "Epoch: 900, Loss: 0.06704294681549072, \n",
            "Epoch: 950, Loss: 0.16289621591567993, \n",
            "Epoch: 1000, Loss: 0.07725417613983154, \n",
            "Epoch: 1050, Loss: 0.1783757209777832, \n",
            "Epoch: 1100, Loss: 0.10933011770248413, \n",
            "Epoch: 1150, Loss: 0.22983986139297485, \n",
            "Epoch: 1200, Loss: 0.10433816909790039, \n",
            "Epoch: 1250, Loss: 0.17411428689956665, \n",
            "Epoch: 1300, Loss: 0.22259318828582764, \n",
            "Epoch: 1350, Loss: 0.049182891845703125, \n",
            "Epoch: 1400, Loss: 0.015165269374847412, \n",
            "Epoch: 1450, Loss: 0.1376524567604065, \n",
            "Epoch: 1500, Loss: 0.09294503927230835, \n",
            "Epoch: 1550, Loss: 0.10001999139785767, \n",
            "Epoch: 1600, Loss: 0.01424252986907959, \n",
            "Epoch: 1650, Loss: 0.0442391037940979, \n",
            "Epoch: 1700, Loss: 0.038039565086364746, \n",
            "Epoch: 1750, Loss: 0.0716390609741211, \n",
            "Epoch: 1800, Loss: 0.051413655281066895, \n",
            "Epoch: 1850, Loss: 0.055594563484191895, \n",
            "Epoch: 1900, Loss: 0.04597783088684082, \n",
            "Epoch: 1950, Loss: 0.033364176750183105, \n",
            "Epoch: 2000, Loss: 0.05933874845504761, \n"
          ],
          "name": "stdout"
        }
      ]
    },
    {
      "cell_type": "code",
      "metadata": {
        "id": "QV0dIdveyCRi"
      },
      "source": [
        ""
      ],
      "execution_count": null,
      "outputs": []
    }
  ]
}